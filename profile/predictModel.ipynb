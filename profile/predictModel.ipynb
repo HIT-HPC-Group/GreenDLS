{
 "cells": [
  {
   "cell_type": "code",
   "execution_count": 1,
   "metadata": {},
   "outputs": [],
   "source": [
    "import matplotlib.pyplot as plt\n",
    "import numpy as np\n",
    "import pandas as pd\n",
    "import seaborn as sns\n",
    "from scipy import optimize as op"
   ]
  },
  {
   "cell_type": "code",
   "execution_count": 2,
   "metadata": {},
   "outputs": [
    {
     "name": "stdout",
     "output_type": "stream",
     "text": [
      "         1597      1537      1477      1417      1357      1297      1237  \\\n",
      "256  159.0957  153.1248  149.1499  140.0255  128.1415  120.9257  109.8454   \n",
      "128  150.3889  140.9989  126.6414  117.0215  109.3551  100.3349  101.1077   \n",
      "64   115.6323  103.4256   97.1386   90.2726   86.0053   81.7500   85.7541   \n",
      "32    79.8531   84.9105   72.6010   65.0894   64.0383   62.1635   59.1575   \n",
      "16    68.5314   64.1915   58.9211   55.7903   53.8025   49.9384   47.5970   \n",
      "8     62.8917   58.3024   56.1906   52.7524   49.5858   46.4296   42.2074   \n",
      "4     57.1113   54.7283   49.2113   45.4950   44.6825   42.1125   39.4536   \n",
      "2     55.7153   51.6283   47.9955   44.2532   41.3827   39.4573   37.7680   \n",
      "1     55.3594   50.4745   46.9234   44.6251   41.8205   38.7708   37.0317   \n",
      "\n",
      "         1177      1117     1057  ...     997      967      937      877   \\\n",
      "256  103.0863  100.4837  92.9466  ...  91.7305  88.9500  87.8066  82.0372   \n",
      "128   90.6939   87.7439  83.2509  ...  82.4645  83.0382  78.7694  75.3453   \n",
      "64    76.2189   70.8902  71.5910  ...  70.6139  71.0275  69.7715  66.2995   \n",
      "32    57.6240   55.4860  55.4399  ...  54.9271  54.6817  54.9715  51.7226   \n",
      "16    47.1892   43.9123  45.2833  ...  44.7692  44.8480  45.1515  43.1185   \n",
      "8     40.2460   40.1928  38.7571  ...  38.5769  39.2124  38.2361  37.8741   \n",
      "4     37.8830   36.0295  35.2719  ...  35.0546  35.8034  34.9043  34.2097   \n",
      "2     36.1317   34.7938  34.0988  ...  33.2141  33.3134  32.8998  32.5929   \n",
      "1     35.4411   33.6558  32.9910  ...  32.3651  32.4886  32.1060  31.6159   \n",
      "\n",
      "        817      757      697      637      577      517   \n",
      "256  77.6163  72.9485  68.6505  62.5923  58.1482  55.4682  \n",
      "128  72.5587  67.6905  65.3167  59.0616  56.0440  53.2170  \n",
      "64   64.2246  59.5483  57.8205  53.6912  50.6074  49.2600  \n",
      "32   53.0189  51.2669  49.2458  46.2952  44.3052  43.2981  \n",
      "16   42.9858  42.6860  42.6891  39.9203  38.7066  38.1441  \n",
      "8    37.1076  36.5684  36.4239  35.1778  34.2989  33.8435  \n",
      "4    33.9148  33.2999  32.9084  31.6086  31.4917  30.8633  \n",
      "2    31.9952  31.4314  31.2851  30.1253  29.5866  29.3142  \n",
      "1    31.0081  30.4125  30.2714  29.4387  28.8651  28.5072  \n",
      "\n",
      "[9 rows x 21 columns]\n"
     ]
    }
   ],
   "source": [
    "# 初始化两个空的DataFrame\n",
    "df_power = pd.DataFrame()\n",
    "with open('densenet_power_result.txt', 'r') as file:\n",
    "    lines = file.readlines()\n",
    "\n",
    "# 初始化变量\n",
    "frequency = None\n",
    "batch_size = None\n",
    "\n",
    "for line in lines:\n",
    "    if 'frequency' in line:\n",
    "        frequency, batch_size = line.strip().split(',')\n",
    "        frequency = int(frequency.split(':')[1])\n",
    "        batch_size = int(batch_size.split(':')[1])\n",
    "    elif 'avgpower' in line:\n",
    "        avgtime = float(line.strip().split(':')[1].replace('w', ''))\n",
    "        df_power.loc[frequency, batch_size] = avgtime\n",
    "df_power=df_power.T\n",
    "print(df_power)\n",
    "# # 输出结果\n",
    "df_power.to_csv(\"densenet_power_results.csv\")"
   ]
  },
  {
   "cell_type": "code",
   "execution_count": 3,
   "metadata": {},
   "outputs": [
    {
     "name": "stdout",
     "output_type": "stream",
     "text": [
      "         1597      1537      1477      1417      1357      1297      1237  \\\n",
      "256  159.0957  153.1248  149.1499  140.0255  128.1415  120.9257  109.8454   \n",
      "128  150.3889  140.9989  126.6414  117.0215  109.3551  100.3349  101.1077   \n",
      "64   115.6323  103.4256   97.1386   90.2726   86.0053   81.7500   85.7541   \n",
      "32    79.8531   84.9105   72.6010   65.0894   64.0383   62.1635   59.1575   \n",
      "16    68.5314   64.1915   58.9211   55.7903   53.8025   49.9384   47.5970   \n",
      "8     62.8917   58.3024   56.1906   52.7524   49.5858   46.4296   42.2074   \n",
      "4     57.1113   54.7283   49.2113   45.4950   44.6825   42.1125   39.4536   \n",
      "2     55.7153   51.6283   47.9955   44.2532   41.3827   39.4573   37.7680   \n",
      "1     55.3594   50.4745   46.9234   44.6251   41.8205   38.7708   37.0317   \n",
      "\n",
      "         1177      1117     1057  ...      997      967      937      877  \\\n",
      "256  103.0863  100.4837  92.9466  ...  91.7305  88.9500  87.8066  82.0372   \n",
      "128   90.6939   87.7439  83.2509  ...  82.4645  83.0382  78.7694  75.3453   \n",
      "64    76.2189   70.8902  71.5910  ...  70.6139  71.0275  69.7715  66.2995   \n",
      "32    57.6240   55.4860  55.4399  ...  54.9271  54.6817  54.9715  51.7226   \n",
      "16    47.1892   43.9123  45.2833  ...  44.7692  44.8480  45.1515  43.1185   \n",
      "8     40.2460   40.1928  38.7571  ...  38.5769  39.2124  38.2361  37.8741   \n",
      "4     37.8830   36.0295  35.2719  ...  35.0546  35.8034  34.9043  34.2097   \n",
      "2     36.1317   34.7938  34.0988  ...  33.2141  33.3134  32.8998  32.5929   \n",
      "1     35.4411   33.6558  32.9910  ...  32.3651  32.4886  32.1060  31.6159   \n",
      "\n",
      "         817      757      697      637      577      517  \n",
      "256  77.6163  72.9485  68.6505  62.5923  58.1482  55.4682  \n",
      "128  72.5587  67.6905  65.3167  59.0616  56.0440  53.2170  \n",
      "64   64.2246  59.5483  57.8205  53.6912  50.6074  49.2600  \n",
      "32   53.0189  51.2669  49.2458  46.2952  44.3052  43.2981  \n",
      "16   42.9858  42.6860  42.6891  39.9203  38.7066  38.1441  \n",
      "8    37.1076  36.5684  36.4239  35.1778  34.2989  33.8435  \n",
      "4    33.9148  33.2999  32.9084  31.6086  31.4917  30.8633  \n",
      "2    31.9952  31.4314  31.2851  30.1253  29.5866  29.3142  \n",
      "1    31.0081  30.4125  30.2714  29.4387  28.8651  28.5072  \n",
      "\n",
      "[9 rows x 21 columns]\n"
     ]
    }
   ],
   "source": [
    "data=pd.read_csv('densenet_power_results.csv')\n",
    "x=np.array(data.iloc[:,0])\n",
    "data=data.drop(['Unnamed: 0'],axis=1)\n",
    "data.index=x\n",
    "data=data.reindex(x)\n",
    "print(data)"
   ]
  },
  {
   "cell_type": "code",
   "execution_count": 4,
   "metadata": {},
   "outputs": [
    {
     "name": "stdout",
     "output_type": "stream",
     "text": [
      "[256 128  64  32  16   8   4   2   1]\n",
      "['1597' '1537' '1477' '1417' '1357' '1297' '1237' '1177' '1117' '1057'\n",
      " '1027' '997' '967' '937' '877' '817' '757' '697' '637' '577' '517']\n",
      "189\n",
      "189\n",
      "189\n",
      "189\n"
     ]
    }
   ],
   "source": [
    "x = np.array(data.index)\n",
    "y = np.array(data.columns)\n",
    "print(x)\n",
    "print(y)\n",
    "X = []\n",
    "Y = []\n",
    "XY = []\n",
    "Z = []\n",
    "for i in x:\n",
    "    for j in y:\n",
    "        if data.at[i,j]!=np.NaN:\n",
    "            X.append(i)\n",
    "            Y.append(int(j))\n",
    "            XY.append([i,int(j)])\n",
    "            Z.append(data.at[i,j]) \n",
    "print(len(X))\n",
    "print(len(Y))\n",
    "print(len(XY))\n",
    "print(len(Z))"
   ]
  },
  {
   "cell_type": "code",
   "execution_count": 5,
   "metadata": {},
   "outputs": [],
   "source": [
    "from sklearn.metrics import mean_squared_error,r2_score\n",
    "from sklearn.model_selection import train_test_split,  cross_val_score \n",
    "from sklearn.ensemble import GradientBoostingRegressor\n",
    "import joblib"
   ]
  },
  {
   "cell_type": "code",
   "execution_count": 6,
   "metadata": {},
   "outputs": [],
   "source": [
    "X_train, X_test, y_train, y_test = train_test_split(XY, Z, test_size=0.3, random_state=112)\n",
    "model=GradientBoostingRegressor(learning_rate=0.15,min_samples_split=2,max_depth=5,n_estimators=200, criterion ='squared_error',random_state=4)\n",
    "pre = model.fit(X_train,y_train)"
   ]
  },
  {
   "cell_type": "code",
   "execution_count": 7,
   "metadata": {},
   "outputs": [
    {
     "name": "stdout",
     "output_type": "stream",
     "text": [
      "Score : 0.9999998458437961\n",
      "MSE : 9.982222945254536e-05\n",
      "R2 : 0.9999998458437961\n"
     ]
    }
   ],
   "source": [
    "#train \n",
    "y_train_pre = model.predict(X_train)\n",
    "\n",
    "print(\"Score : \"+str(pre.score(X_train,y_train)))\n",
    "print(\"MSE : \"+str(mean_squared_error(y_train,y_train_pre)))\n",
    "print(\"R2 : \"+str(r2_score(y_train,y_train_pre)))"
   ]
  },
  {
   "cell_type": "code",
   "execution_count": 8,
   "metadata": {},
   "outputs": [
    {
     "name": "stdout",
     "output_type": "stream",
     "text": [
      "Score : 0.986982852379872\n",
      "MSE : 13.670004761939055\n",
      "R2 : 0.986982852379872\n"
     ]
    }
   ],
   "source": [
    "#test \n",
    "y_test_pre = model.predict(X_test)\n",
    "\n",
    "print(\"Score : \"+str(pre.score(X_test,y_test)))\n",
    "print(\"MSE : \"+str(mean_squared_error(y_test,y_test_pre)))\n",
    "print(\"R2 : \"+str(r2_score(y_test,y_test_pre)))"
   ]
  },
  {
   "cell_type": "code",
   "execution_count": 9,
   "metadata": {},
   "outputs": [
    {
     "data": {
      "text/plain": [
       "['densenet_power.pkl']"
      ]
     },
     "execution_count": 9,
     "metadata": {},
     "output_type": "execute_result"
    }
   ],
   "source": [
    "joblib.dump(filename='densenet_power.pkl',value=model)"
   ]
  },
  {
   "cell_type": "code",
   "execution_count": 10,
   "metadata": {},
   "outputs": [
    {
     "name": "stdout",
     "output_type": "stream",
     "text": [
      "[55.47424071]\n",
      "53.73835563659668\n"
     ]
    }
   ],
   "source": [
    "import time\n",
    "import joblib\n",
    "predicttion=joblib.load('densenet_power.pkl')\n",
    "input=[[26,1117]]\n",
    "t1=time.time()\n",
    "for i in range(11):\n",
    "    for j in range(15):\n",
    "        result=predicttion.predict(input)\n",
    "    result=predicttion.predict(input)\n",
    "t2=time.time()-t1\n",
    "print(result)\n",
    "print(t2*1000)"
   ]
  }
 ],
 "metadata": {
  "kernelspec": {
   "display_name": "d2l",
   "language": "python",
   "name": "python3"
  },
  "language_info": {
   "codemirror_mode": {
    "name": "ipython",
    "version": 3
   },
   "file_extension": ".py",
   "mimetype": "text/x-python",
   "name": "python",
   "nbconvert_exporter": "python",
   "pygments_lexer": "ipython3",
   "version": "3.10.8"
  }
 },
 "nbformat": 4,
 "nbformat_minor": 2
}
